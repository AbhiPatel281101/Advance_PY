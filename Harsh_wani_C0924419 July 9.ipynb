{
 "cells": [
  {
   "cell_type": "markdown",
   "metadata": {},
   "source": [
    "# Question 1 (10 marks)"
   ]
  },
  {
   "cell_type": "markdown",
   "metadata": {},
   "source": [
    "Given an m x n grid of characters board and a string word, return true if word exists in the grid.\n",
    "\n",
    "The word can be constructed from letters of sequentially adjacent cells, where adjacent cells are horizontally or vertically neighboring. The same letter cell may not be used more than once.\n",
    "\n",
    "Input: board = [[\"A\",\"B\",\"C\",\"E\"],[\"S\",\"F\",\"C\",\"S\"],[\"A\",\"D\",\"E\",\"E\"]], word = \"ABCCED\"\n",
    "\n",
    "Output: true\n",
    "\n",
    "Write function and use input method to test it!\n",
    "\n",
    "\n"
   ]
  },
  {
   "cell_type": "code",
   "execution_count": null,
   "metadata": {},
   "outputs": [],
   "source": [
    "#Answer"
   ]
  },
  {
   "cell_type": "code",
   "execution_count": 57,
   "metadata": {},
   "outputs": [
    {
     "name": "stdout",
     "output_type": "stream",
     "text": [
      "['A', 'B', 'C', 'E']\n",
      "['S', 'F', 'C', 'S']\n",
      "['A', 'D', 'E', 'E']\n"
     ]
    }
   ],
   "source": [
    "def final():\n",
    "    board = [[\"A\",\"B\",\"C\",\"E\"],[\"S\",\"F\",\"C\",\"S\"],[\"A\",\"D\",\"E\",\"E\"]]\n",
    "    \n",
    "    for i in board:\n",
    "        print(i)\n",
    "final()"
   ]
  },
  {
   "cell_type": "markdown",
   "metadata": {},
   "source": [
    "# Question 2 (15 marks)"
   ]
  },
  {
   "cell_type": "markdown",
   "metadata": {},
   "source": [
    "Given a string containing just the characters   '('   and   ')'  , return the length of the longest valid (well-formed) parentheses \n",
    "substring\n",
    "\n",
    "Write function and use input method to test it!\n",
    "\n",
    "Your code must also print out true or false showing if we have proper parantheses in terms of number and order etc...so we do not get a syntax error for parantheses\n",
    "\n",
    "Example 1:\n",
    "\n",
    "Input: s = \"(())\"\n",
    "\n",
    "Output: 2, True\n",
    "\n",
    "Explanation: The longest valid parentheses substring is \"(())\".  \n",
    "\n",
    "Example 2:\n",
    "\n",
    "Input: s = \")()())\"\n",
    "\n",
    "Output: 4, false\n",
    "\n",
    "Explanation: The longest valid parentheses substring is \"()()\".\n",
    "\n",
    "Your code must get the input in the format shown in the examples (like between quatations)\n"
   ]
  },
  {
   "cell_type": "code",
   "execution_count": null,
   "metadata": {},
   "outputs": [],
   "source": [
    "#Answer"
   ]
  },
  {
   "cell_type": "code",
   "execution_count": 56,
   "metadata": {},
   "outputs": [
    {
     "name": "stdin",
     "output_type": "stream",
     "text": [
      "Enter thestring: (()())\n"
     ]
    },
    {
     "name": "stdout",
     "output_type": "stream",
     "text": [
      "The total number of valid parenthesis: 6\n"
     ]
    }
   ],
   "source": [
    "\n",
    "def lens(element) -> int:\n",
    "    \n",
    "    #Get the length of the list\n",
    "    n = len(element)\n",
    "    lst = [] \n",
    "\n",
    "    for i in range(n):\n",
    "        if element[i] == '(':\n",
    "            lst.append(i)\n",
    "        else:\n",
    "            if lst and element[lst[-1]] == '(':\n",
    "                #Removing the last element if it is equal to (\n",
    "                lst.pop()\n",
    "            else:\n",
    "                lst.append(i)\n",
    "\n",
    "    final_result, last = 0, n\n",
    "    while lst:\n",
    "        remove = lst.pop()\n",
    "        final_result = max(final_result, last - remove - 1)\n",
    "        last = remove\n",
    "\n",
    "    return max(final_result, last)\n",
    "\n",
    "\n",
    "example=str(input(\"Enter thestring:\"))\n",
    "print(\"The total number of valid parenthesis:\",lens(example))  \n"
   ]
  },
  {
   "cell_type": "code",
   "execution_count": null,
   "metadata": {},
   "outputs": [],
   "source": []
  },
  {
   "cell_type": "markdown",
   "metadata": {},
   "source": [
    "# Question 3 (15 Marks)"
   ]
  },
  {
   "cell_type": "markdown",
   "metadata": {},
   "source": [
    "Write function and use input method\n",
    "\n",
    "Use a function and use input method to test your code\n",
    "\n",
    "Given an integer array nums, return the maximum difference between two successive elements in its sorted form and also return those two numbers. If the array contains less than two elements, return 0.\n",
    "\n",
    "\n",
    "Example 1:\n",
    "\n",
    "Input: nums = [3,60,9,1] Output: [51, the two numbers are 9 and 60 ]\n",
    "\n",
    "\n",
    "Explanation: The sorted form of the array is [1,3,9,60], (9,61) has the maximum difference 51.\n",
    "\n",
    "Example 2:\n",
    "\n",
    "Input: nums = [10] Output: 0 Explanation: The array contains less than 2 elements, therefore return 0.\n"
   ]
  },
  {
   "cell_type": "code",
   "execution_count": null,
   "metadata": {},
   "outputs": [],
   "source": [
    "#Answer"
   ]
  },
  {
   "cell_type": "code",
   "execution_count": 11,
   "metadata": {},
   "outputs": [
    {
     "name": "stdin",
     "output_type": "stream",
     "text": [
      "Enter the number of elements in list: 3\n",
      "Enter the input numbers: 54\n",
      "Enter the input numbers: 65\n",
      "Enter the input numbers: 66\n"
     ]
    },
    {
     "name": "stdout",
     "output_type": "stream",
     "text": [
      "Sorted list: [54, 65, 66]\n",
      "1st element:66 and the 2nd element:65\n",
      "The difference between the first and the 2nd element is: 1\n"
     ]
    }
   ],
   "source": [
    "def difference():\n",
    "\n",
    "    df=int(input(\"Enter the number of elements in list:\"))\n",
    "    \n",
    "    #Defining the list\n",
    "    lst=[]\n",
    "    for i in range(df):\n",
    "        nums=int(input(\"Enter the input numbers:\"))\n",
    "        lst.append(nums)\n",
    "    \n",
    "    #Sorting the list in ascending order\n",
    "    lst.sort()\n",
    "    print(f\"Sorted list: {lst}\")\n",
    "\n",
    "    #If the len of lst is <2 print 0 else the difference of most 2 greatest element\n",
    "    if len(lst)<2:\n",
    "        return 0\n",
    "    else:\n",
    "        diff= lst[-1] - lst[-2]\n",
    "        print(f\"1st element:{lst[-1]} and the 2nd element:{lst[-2]}\")\n",
    "        print(\"The difference between the first and the 2nd element is:\",diff)\n",
    "        \n",
    "difference()"
   ]
  },
  {
   "cell_type": "code",
   "execution_count": null,
   "metadata": {},
   "outputs": [],
   "source": []
  },
  {
   "cell_type": "markdown",
   "metadata": {},
   "source": [
    "# Good Luck "
   ]
  },
  {
   "cell_type": "code",
   "execution_count": null,
   "metadata": {},
   "outputs": [],
   "source": []
  },
  {
   "cell_type": "code",
   "execution_count": null,
   "metadata": {},
   "outputs": [],
   "source": []
  },
  {
   "cell_type": "code",
   "execution_count": null,
   "metadata": {},
   "outputs": [],
   "source": []
  }
 ],
 "metadata": {
  "kernelspec": {
   "display_name": "Python 3 (ipykernel)",
   "language": "python",
   "name": "python3"
  },
  "language_info": {
   "codemirror_mode": {
    "name": "ipython",
    "version": 3
   },
   "file_extension": ".py",
   "mimetype": "text/x-python",
   "name": "python",
   "nbconvert_exporter": "python",
   "pygments_lexer": "ipython3",
   "version": "3.11.7"
  }
 },
 "nbformat": 4,
 "nbformat_minor": 4
}

add new version contril V.1
